{
  "nbformat": 4,
  "nbformat_minor": 0,
  "metadata": {
    "colab": {
      "provenance": [],
      "include_colab_link": true
    },
    "kernelspec": {
      "name": "python3",
      "display_name": "Python 3"
    },
    "language_info": {
      "name": "python"
    }
  },
  "cells": [
    {
      "cell_type": "markdown",
      "metadata": {
        "id": "view-in-github",
        "colab_type": "text"
      },
      "source": [
        "<a href=\"https://colab.research.google.com/github/AnusreeMandal/SoftComputing_Lab/blob/main/assignment5.ipynb\" target=\"_parent\"><img src=\"https://colab.research.google.com/assets/colab-badge.svg\" alt=\"Open In Colab\"/></a>"
      ]
    },
    {
      "cell_type": "markdown",
      "source": [
        "Name: Anusree Mandal\n",
        "\n",
        "Enrolment No: 2022CSB016\n",
        "\n",
        "Neural Network using Backpropagation on 7-Segment Display"
      ],
      "metadata": {
        "id": "7yrrLHrqtGZg"
      }
    },
    {
      "cell_type": "markdown",
      "source": [
        "1. Implement backpropagation (BP) on feedforward perceptron neural network with 2 hidden layers for recognizing digits 0-9, assuming 7-segment display as input and outputs 1 when K (0...9) is input, else outputs 0.\n",
        "Use Sigmoidal activation function and MSE as loss function.\n",
        "See the input patterns below.\n",
        "\n",
        "(i) Examine effect of learning rate, hidden layers and nodes in each hidden layer.\n",
        "\n",
        "(ii) Study convergence by plotting loss vs. iterations.\n",
        "\n",
        "(iii) Perform N-fold cross validation for evaluating performance metrics (Accuracy,\n",
        "Specificity, Sensitivity, Precession, Recall, and F-Measure)"
      ],
      "metadata": {
        "id": "-_sz9I9Iti8l"
      }
    },
    {
      "cell_type": "code",
      "execution_count": null,
      "metadata": {
        "id": "kbSzzY2awonD"
      },
      "outputs": [],
      "source": [
        "import numpy as np"
      ]
    },
    {
      "cell_type": "code",
      "source": [
        "num_patterns = np.array([\n",
        "[1, 1, 1, 1, 1, 1, 0], # 0\n",
        "[0, 1, 1, 0, 0, 0, 0], # 1\n",
        "[1, 1, 0, 1, 1, 0, 1], # 2\n",
        "[1, 1, 1, 1, 0, 0, 1], # 3\n",
        "[0, 1, 1, 0, 0, 1, 1], # 4\n",
        "[1, 0, 1, 1, 0, 1, 1], # 5\n",
        "[1, 0, 1, 1, 1, 1, 1], # 6\n",
        "[1, 1, 1, 0, 0, 0, 0], # 7\n",
        "[1, 1, 1, 1, 1, 1, 1], # 8\n",
        "[1, 1, 1, 1, 0, 1, 1] # 9\n",
        "])"
      ],
      "metadata": {
        "id": "oRKyHX1T3obS"
      },
      "execution_count": null,
      "outputs": []
    },
    {
      "cell_type": "code",
      "source": [
        "x = np.array([[int(x) for x in np.binary_repr(i, width=7)] for i in range(128)])\n",
        "x"
      ],
      "metadata": {
        "colab": {
          "base_uri": "https://localhost:8080/"
        },
        "id": "wJjIk0fl4A2i",
        "outputId": "628017dc-f1af-4a75-d7f4-2c94c0e7da24"
      },
      "execution_count": null,
      "outputs": [
        {
          "output_type": "execute_result",
          "data": {
            "text/plain": [
              "array([[0, 0, 0, 0, 0, 0, 0],\n",
              "       [0, 0, 0, 0, 0, 0, 1],\n",
              "       [0, 0, 0, 0, 0, 1, 0],\n",
              "       [0, 0, 0, 0, 0, 1, 1],\n",
              "       [0, 0, 0, 0, 1, 0, 0],\n",
              "       [0, 0, 0, 0, 1, 0, 1],\n",
              "       [0, 0, 0, 0, 1, 1, 0],\n",
              "       [0, 0, 0, 0, 1, 1, 1],\n",
              "       [0, 0, 0, 1, 0, 0, 0],\n",
              "       [0, 0, 0, 1, 0, 0, 1],\n",
              "       [0, 0, 0, 1, 0, 1, 0],\n",
              "       [0, 0, 0, 1, 0, 1, 1],\n",
              "       [0, 0, 0, 1, 1, 0, 0],\n",
              "       [0, 0, 0, 1, 1, 0, 1],\n",
              "       [0, 0, 0, 1, 1, 1, 0],\n",
              "       [0, 0, 0, 1, 1, 1, 1],\n",
              "       [0, 0, 1, 0, 0, 0, 0],\n",
              "       [0, 0, 1, 0, 0, 0, 1],\n",
              "       [0, 0, 1, 0, 0, 1, 0],\n",
              "       [0, 0, 1, 0, 0, 1, 1],\n",
              "       [0, 0, 1, 0, 1, 0, 0],\n",
              "       [0, 0, 1, 0, 1, 0, 1],\n",
              "       [0, 0, 1, 0, 1, 1, 0],\n",
              "       [0, 0, 1, 0, 1, 1, 1],\n",
              "       [0, 0, 1, 1, 0, 0, 0],\n",
              "       [0, 0, 1, 1, 0, 0, 1],\n",
              "       [0, 0, 1, 1, 0, 1, 0],\n",
              "       [0, 0, 1, 1, 0, 1, 1],\n",
              "       [0, 0, 1, 1, 1, 0, 0],\n",
              "       [0, 0, 1, 1, 1, 0, 1],\n",
              "       [0, 0, 1, 1, 1, 1, 0],\n",
              "       [0, 0, 1, 1, 1, 1, 1],\n",
              "       [0, 1, 0, 0, 0, 0, 0],\n",
              "       [0, 1, 0, 0, 0, 0, 1],\n",
              "       [0, 1, 0, 0, 0, 1, 0],\n",
              "       [0, 1, 0, 0, 0, 1, 1],\n",
              "       [0, 1, 0, 0, 1, 0, 0],\n",
              "       [0, 1, 0, 0, 1, 0, 1],\n",
              "       [0, 1, 0, 0, 1, 1, 0],\n",
              "       [0, 1, 0, 0, 1, 1, 1],\n",
              "       [0, 1, 0, 1, 0, 0, 0],\n",
              "       [0, 1, 0, 1, 0, 0, 1],\n",
              "       [0, 1, 0, 1, 0, 1, 0],\n",
              "       [0, 1, 0, 1, 0, 1, 1],\n",
              "       [0, 1, 0, 1, 1, 0, 0],\n",
              "       [0, 1, 0, 1, 1, 0, 1],\n",
              "       [0, 1, 0, 1, 1, 1, 0],\n",
              "       [0, 1, 0, 1, 1, 1, 1],\n",
              "       [0, 1, 1, 0, 0, 0, 0],\n",
              "       [0, 1, 1, 0, 0, 0, 1],\n",
              "       [0, 1, 1, 0, 0, 1, 0],\n",
              "       [0, 1, 1, 0, 0, 1, 1],\n",
              "       [0, 1, 1, 0, 1, 0, 0],\n",
              "       [0, 1, 1, 0, 1, 0, 1],\n",
              "       [0, 1, 1, 0, 1, 1, 0],\n",
              "       [0, 1, 1, 0, 1, 1, 1],\n",
              "       [0, 1, 1, 1, 0, 0, 0],\n",
              "       [0, 1, 1, 1, 0, 0, 1],\n",
              "       [0, 1, 1, 1, 0, 1, 0],\n",
              "       [0, 1, 1, 1, 0, 1, 1],\n",
              "       [0, 1, 1, 1, 1, 0, 0],\n",
              "       [0, 1, 1, 1, 1, 0, 1],\n",
              "       [0, 1, 1, 1, 1, 1, 0],\n",
              "       [0, 1, 1, 1, 1, 1, 1],\n",
              "       [1, 0, 0, 0, 0, 0, 0],\n",
              "       [1, 0, 0, 0, 0, 0, 1],\n",
              "       [1, 0, 0, 0, 0, 1, 0],\n",
              "       [1, 0, 0, 0, 0, 1, 1],\n",
              "       [1, 0, 0, 0, 1, 0, 0],\n",
              "       [1, 0, 0, 0, 1, 0, 1],\n",
              "       [1, 0, 0, 0, 1, 1, 0],\n",
              "       [1, 0, 0, 0, 1, 1, 1],\n",
              "       [1, 0, 0, 1, 0, 0, 0],\n",
              "       [1, 0, 0, 1, 0, 0, 1],\n",
              "       [1, 0, 0, 1, 0, 1, 0],\n",
              "       [1, 0, 0, 1, 0, 1, 1],\n",
              "       [1, 0, 0, 1, 1, 0, 0],\n",
              "       [1, 0, 0, 1, 1, 0, 1],\n",
              "       [1, 0, 0, 1, 1, 1, 0],\n",
              "       [1, 0, 0, 1, 1, 1, 1],\n",
              "       [1, 0, 1, 0, 0, 0, 0],\n",
              "       [1, 0, 1, 0, 0, 0, 1],\n",
              "       [1, 0, 1, 0, 0, 1, 0],\n",
              "       [1, 0, 1, 0, 0, 1, 1],\n",
              "       [1, 0, 1, 0, 1, 0, 0],\n",
              "       [1, 0, 1, 0, 1, 0, 1],\n",
              "       [1, 0, 1, 0, 1, 1, 0],\n",
              "       [1, 0, 1, 0, 1, 1, 1],\n",
              "       [1, 0, 1, 1, 0, 0, 0],\n",
              "       [1, 0, 1, 1, 0, 0, 1],\n",
              "       [1, 0, 1, 1, 0, 1, 0],\n",
              "       [1, 0, 1, 1, 0, 1, 1],\n",
              "       [1, 0, 1, 1, 1, 0, 0],\n",
              "       [1, 0, 1, 1, 1, 0, 1],\n",
              "       [1, 0, 1, 1, 1, 1, 0],\n",
              "       [1, 0, 1, 1, 1, 1, 1],\n",
              "       [1, 1, 0, 0, 0, 0, 0],\n",
              "       [1, 1, 0, 0, 0, 0, 1],\n",
              "       [1, 1, 0, 0, 0, 1, 0],\n",
              "       [1, 1, 0, 0, 0, 1, 1],\n",
              "       [1, 1, 0, 0, 1, 0, 0],\n",
              "       [1, 1, 0, 0, 1, 0, 1],\n",
              "       [1, 1, 0, 0, 1, 1, 0],\n",
              "       [1, 1, 0, 0, 1, 1, 1],\n",
              "       [1, 1, 0, 1, 0, 0, 0],\n",
              "       [1, 1, 0, 1, 0, 0, 1],\n",
              "       [1, 1, 0, 1, 0, 1, 0],\n",
              "       [1, 1, 0, 1, 0, 1, 1],\n",
              "       [1, 1, 0, 1, 1, 0, 0],\n",
              "       [1, 1, 0, 1, 1, 0, 1],\n",
              "       [1, 1, 0, 1, 1, 1, 0],\n",
              "       [1, 1, 0, 1, 1, 1, 1],\n",
              "       [1, 1, 1, 0, 0, 0, 0],\n",
              "       [1, 1, 1, 0, 0, 0, 1],\n",
              "       [1, 1, 1, 0, 0, 1, 0],\n",
              "       [1, 1, 1, 0, 0, 1, 1],\n",
              "       [1, 1, 1, 0, 1, 0, 0],\n",
              "       [1, 1, 1, 0, 1, 0, 1],\n",
              "       [1, 1, 1, 0, 1, 1, 0],\n",
              "       [1, 1, 1, 0, 1, 1, 1],\n",
              "       [1, 1, 1, 1, 0, 0, 0],\n",
              "       [1, 1, 1, 1, 0, 0, 1],\n",
              "       [1, 1, 1, 1, 0, 1, 0],\n",
              "       [1, 1, 1, 1, 0, 1, 1],\n",
              "       [1, 1, 1, 1, 1, 0, 0],\n",
              "       [1, 1, 1, 1, 1, 0, 1],\n",
              "       [1, 1, 1, 1, 1, 1, 0],\n",
              "       [1, 1, 1, 1, 1, 1, 1]])"
            ]
          },
          "metadata": {},
          "execution_count": 3
        }
      ]
    },
    {
      "cell_type": "code",
      "source": [
        "y = np.array([[1] if any(np.array_equal(i, pattern) for pattern in num_patterns) else [0] for i in x])"
      ],
      "metadata": {
        "id": "WNRZzoBK5Wwh"
      },
      "execution_count": null,
      "outputs": []
    },
    {
      "cell_type": "code",
      "source": [
        "data=np.concatenate((x,y),axis=1)\n",
        "data"
      ],
      "metadata": {
        "colab": {
          "base_uri": "https://localhost:8080/"
        },
        "id": "Y9GHCBKh6TSd",
        "outputId": "3b2573de-a0eb-45c9-9cfd-82e5ef0d4456"
      },
      "execution_count": null,
      "outputs": [
        {
          "output_type": "execute_result",
          "data": {
            "text/plain": [
              "array([[0, 0, 0, ..., 0, 0, 0],\n",
              "       [0, 0, 0, ..., 0, 1, 0],\n",
              "       [0, 0, 0, ..., 1, 0, 0],\n",
              "       ...,\n",
              "       [1, 1, 1, ..., 0, 1, 0],\n",
              "       [1, 1, 1, ..., 1, 0, 1],\n",
              "       [1, 1, 1, ..., 1, 1, 1]])"
            ]
          },
          "metadata": {},
          "execution_count": 5
        }
      ]
    },
    {
      "cell_type": "code",
      "source": [
        "valid=data[data[:,-1]==1]\n",
        "invalid=data[data[:,-1]==0]"
      ],
      "metadata": {
        "id": "qxOfN0HD7wtT"
      },
      "execution_count": null,
      "outputs": []
    },
    {
      "cell_type": "code",
      "source": [
        "from sklearn.utils import resample\n",
        "valid_oversampled=resample(valid,replace=True,n_samples=len(invalid),random_state=42)\n",
        "data=np.concatenate((valid_oversampled,invalid),axis=0)\n",
        "np.random.shuffle(data)"
      ],
      "metadata": {
        "id": "xAzWRI5m8Jrg"
      },
      "execution_count": null,
      "outputs": []
    },
    {
      "cell_type": "code",
      "source": [
        "x=data[:,:-1]\n",
        "y=data[:,-1].reshape(-1,1)"
      ],
      "metadata": {
        "id": "zs_481dq83K3"
      },
      "execution_count": null,
      "outputs": []
    },
    {
      "cell_type": "code",
      "source": [
        "def sigmoid(x):\n",
        "  return 1/(1+np.exp(-x))\n",
        "\n",
        "def sigmoid_derivative(x):\n",
        "  return x*(1-x)\n",
        "\n",
        "def mse(y_true,y_pred):\n",
        "  return np.mean((y_true-y_pred)**2)"
      ],
      "metadata": {
        "id": "bALaS1Sd-lvE"
      },
      "execution_count": null,
      "outputs": []
    },
    {
      "cell_type": "code",
      "source": [
        "# neural network\n",
        "class NeuralNetwork:\n",
        "    def __init__(self, input_size, hidden_size1, hidden_size2, output_size,learning_rate):\n",
        "        self.learning_rate=learning_rate\n",
        "        self.weights1=np.random.rand(input_size,hidden_size1)-0.5\n",
        "        self.weights2=np.random.rand(hidden_size1,hidden_size2)-0.5\n",
        "        self.weights3=np.random.rand(hidden_size2,output_size)-0.5\n",
        "        self.bias1=np.random.rand(1,hidden_size1)-0.5\n",
        "        self.bias2=np.random.rand(1,hidden_size2)-0.5\n",
        "        self.bias3=np.random.rand(1,output_size)-0.5\n",
        "\n",
        "    def forward_propagation(self,x):\n",
        "        self.input=x\n",
        "        self.hidden1=sigmoid(np.dot(self.input,self.weights1)+self.bias1)\n",
        "        self.hidden2=sigmoid(np.dot(self.hidden1,self.weights2)+self.bias2)\n",
        "        self.output=sigmoid(np.dot(self.hidden2,self.weights3)+self.bias3)\n",
        "        return self.output\n",
        "\n",
        "    def backward_propagation(self,y_true):\n",
        "        error=y_true-self.output\n",
        "        d_output=error*sigmoid_derivative(self.output)\n",
        "        error_hidden2=d_output.dot(self.weights3.T)\n",
        "        d_hidden2=error_hidden2*sigmoid_derivative(self.hidden2)\n",
        "        error_hidden1=d_hidden2.dot(self.weights2.T)\n",
        "        d_hidden1=error_hidden1*sigmoid_derivative(self.hidden1)\n",
        "        #updating weights and bias\n",
        "        self.weights3+=self.hidden2.T.dot(d_output)*self.learning_rate\n",
        "        self.weights2+=self.hidden1.T.dot(d_hidden2)*self.learning_rate\n",
        "        self.weights1+=self.input.T.dot(d_hidden1)*self.learning_rate\n",
        "        self.bias3+=np.sum(d_output,axis=0,keepdims=True)*self.learning_rate\n",
        "        self.bias2+=np.sum(d_hidden2,axis=0,keepdims=True)*self.learning_rate\n",
        "        self.bias1+=np.sum(d_hidden1,axis=0,keepdims=True)*self.learning_rate\n",
        "\n",
        "    def train(self,x,y,epochs):\n",
        "        loss=[]\n",
        "        for i in range(epochs):\n",
        "            output=self.forward_propagation(x)\n",
        "            loss_value=mse(y,output)\n",
        "            loss.append(loss_value)\n",
        "            loss.append(loss_value)\n",
        "            self.backward_propagation(y)\n",
        "            if (i+1)%100==0:\n",
        "                print(f\"Epoch {i+1}: Loss={loss_value}\")\n",
        "        return loss\n",
        "\n",
        "    def predict(self,x):\n",
        "        pred=self.forward_propagation(x)\n",
        "        return np.round(pred).astype(int)"
      ],
      "metadata": {
        "id": "YcjhzKhD9VOy"
      },
      "execution_count": null,
      "outputs": []
    },
    {
      "cell_type": "code",
      "source": [
        "import matplotlib.pyplot as plt\n",
        "import seaborn as sns\n",
        "from sklearn.model_selection import StratifiedKFold\n",
        "from sklearn.metrics import accuracy_score,precision_score,recall_score,f1_score,confusion_matrix"
      ],
      "metadata": {
        "id": "C4o1s_jPETNp"
      },
      "execution_count": null,
      "outputs": []
    },
    {
      "cell_type": "code",
      "source": [
        "def stratified_crossvalidation(x,y,hidden1_size,hidden2_size,learning_rate,epochs,n_splits):\n",
        "  skf=StratifiedKFold(n_splits=n_splits,shuffle=True,random_state=42)\n",
        "  accuracy=[]\n",
        "  precision=[]\n",
        "  recall=[]\n",
        "  f1=[]\n",
        "  specificity=[]\n",
        "  confusionmatrix=np.zeros((2,2),dtype=int)\n",
        "  i=0\n",
        "  for train_index,test_index in skf.split(x,y):\n",
        "    x_train,x_test=x[train_index],x[test_index]\n",
        "    y_train,y_test=y[train_index],y[test_index]\n",
        "    nn=NeuralNetwork(x.shape[1],hidden1_size,hidden2_size,1,learning_rate)\n",
        "    nn.train(x_train,y_train,epochs)\n",
        "    y_pred=nn.predict(x_test)\n",
        "    accuracy.append(accuracy_score(y_test,y_pred))\n",
        "    precision.append(precision_score(y_test,y_pred))\n",
        "    recall.append(recall_score(y_test,y_pred))\n",
        "    f1.append(f1_score(y_test,y_pred))\n",
        "    tn,fp,fn,tp=confusion_matrix(y_test,y_pred).ravel()\n",
        "    specificity.append(tn/(tn+fp) if tn+fp>0 else 0)\n",
        "    confusionmatrix[0,0]+=tn\n",
        "    confusionmatrix[0,1]+=fp\n",
        "    confusionmatrix[1,0]+=fn\n",
        "    confusionmatrix[1,1]+=tp\n",
        "    i+=1\n",
        "    print(f\"\\nFold {i}:\")\n",
        "    print(f\"Accuracy: {accuracy_score(y_test,y_pred)}\")\n",
        "    print(f\"Precision: {precision_score(y_test,y_pred)}\")\n",
        "    print(f\"Recall: {recall_score(y_test,y_pred)}\")\n",
        "    print(f\"F1 Score: {f1_score(y_test,y_pred)}\")\n",
        "    print(f\"Specificity: {tn/(tn+fp) if tn+fp>0 else 0}\")\n",
        "    print(f\"Confusion Matrix:\\n{confusion_matrix(y_test,y_pred)}\")\n",
        "  plt.figure(figsize=(8, 6))\n",
        "  sns.heatmap(confusionmatrix, annot=True, fmt=\"d\", cmap=\"Blues\",cbar=False,\n",
        "  xticklabels=[\"Predicted 0\", \"Predicted 1\"],yticklabels=[\"Actual 0\", \"Actual 1\"])\n",
        "  plt.title(\"Final Confusion Matrix (Summed over all folds)\")\n",
        "  plt.xlabel(\"Predicted Label\")\n",
        "  plt.ylabel(\"True Label\")\n",
        "  plt.show()\n",
        "  print(f\"\\nAverage accuracy across all folds:{np.mean(accuracy)}\")\n",
        "  print(f\"Average precision across all folds:{np.mean(precision)}\")\n",
        "  print(f\"Average recall across all folds:{np.mean(recall)}\")\n",
        "  print(f\"Average f1 score across all folds:{np.mean(f1)}\")\n",
        "  print(f\"Average specificity across all folds:{np.mean(specificity)}\")"
      ],
      "metadata": {
        "id": "AToAIJIgMoXi"
      },
      "execution_count": null,
      "outputs": []
    },
    {
      "cell_type": "code",
      "source": [
        "neural_network_num=NeuralNetwork(x.shape[1],16,32,1,0.01)\n",
        "loss=neural_network_num.train(x,y,1000)\n",
        "plt.plot(loss)\n",
        "plt.xlabel(\"Epochs\")\n",
        "plt.ylabel(\"Loss\")\n",
        "plt.title(\"Loss vs Epochs\")\n",
        "plt.show()"
      ],
      "metadata": {
        "colab": {
          "base_uri": "https://localhost:8080/",
          "height": 654
        },
        "id": "4-4igA8jKgjx",
        "outputId": "b8195adf-c9d9-4e6b-9aec-41fdc649468a"
      },
      "execution_count": null,
      "outputs": [
        {
          "output_type": "stream",
          "name": "stdout",
          "text": [
            "Epoch 100: Loss=0.1854396661220548\n",
            "Epoch 200: Loss=0.1324476282983588\n",
            "Epoch 300: Loss=0.12192286233917478\n",
            "Epoch 400: Loss=0.11758766264149788\n",
            "Epoch 500: Loss=0.11443988402243938\n",
            "Epoch 600: Loss=0.11119093684839558\n",
            "Epoch 700: Loss=0.10717046316224241\n",
            "Epoch 800: Loss=0.10181154267028515\n",
            "Epoch 900: Loss=0.0945793434360419\n",
            "Epoch 1000: Loss=0.08502652449131447\n"
          ]
        },
        {
          "output_type": "display_data",
          "data": {
            "text/plain": [
              "<Figure size 640x480 with 1 Axes>"
            ],
            "image/png": "[encoded data removed]"
          },
          "metadata": {}
        }
      ]
    },
    {
      "cell_type": "code",
      "source": [
        "stratified_crossvalidation(x,y,16,32,0.01,1000,5)"
      ],
      "metadata": {
        "colab": {
          "base_uri": "https://localhost:8080/",
          "height": 1000
        },
        "id": "_-Q7uQ5oLNt5",
        "outputId": "0351368b-dc04-47c3-970e-349dc4efc720"
      },
      "execution_count": null,
      "outputs": [
        {
          "output_type": "stream",
          "name": "stdout",
          "text": [
            "Epoch 100: Loss=0.2181114124045615\n",
            "Epoch 200: Loss=0.14475073931098772\n",
            "Epoch 300: Loss=0.12022258963695553\n",
            "Epoch 400: Loss=0.1126964200071745\n",
            "Epoch 500: Loss=0.10857335367264155\n",
            "Epoch 600: Loss=0.10500568081500658\n",
            "Epoch 700: Loss=0.10099323617752178\n",
            "Epoch 800: Loss=0.09610633385481153\n",
            "Epoch 900: Loss=0.09017986232320309\n",
            "Epoch 1000: Loss=0.08314393468151583\n",
            "\n",
            "Fold 1:\n",
            "Accuracy: 0.7708333333333334\n",
            "Precision: 0.7407407407407407\n",
            "Recall: 0.8333333333333334\n",
            "F1 Score: 0.7843137254901961\n",
            "Specificity: 0.7083333333333334\n",
            "Confusion Matrix:\n",
            "[[17  7]\n",
            " [ 4 20]]\n",
            "Epoch 100: Loss=0.21224975712606045\n",
            "Epoch 200: Loss=0.13365025188213234\n",
            "Epoch 300: Loss=0.11099660437320547\n",
            "Epoch 400: Loss=0.1036335653391559\n",
            "Epoch 500: Loss=0.09959926276869747\n",
            "Epoch 600: Loss=0.09638889821376029\n",
            "Epoch 700: Loss=0.09314020770690952\n",
            "Epoch 800: Loss=0.08934023252775505\n",
            "Epoch 900: Loss=0.08452032719284071\n",
            "Epoch 1000: Loss=0.07837820504687715\n",
            "\n",
            "Fold 2:\n",
            "Accuracy: 0.7872340425531915\n",
            "Precision: 0.696969696969697\n",
            "Recall: 1.0\n",
            "F1 Score: 0.8214285714285714\n",
            "Specificity: 0.5833333333333334\n",
            "Confusion Matrix:\n",
            "[[14 10]\n",
            " [ 0 23]]\n",
            "Epoch 100: Loss=0.2081481219775269\n",
            "Epoch 200: Loss=0.14373864369186917\n",
            "Epoch 300: Loss=0.1257151869038044\n",
            "Epoch 400: Loss=0.1191303143977271\n",
            "Epoch 500: Loss=0.1151324232059483\n",
            "Epoch 600: Loss=0.11166839540118939\n",
            "Epoch 700: Loss=0.10787919059911401\n",
            "Epoch 800: Loss=0.10319196028660112\n",
            "Epoch 900: Loss=0.09718426254642543\n",
            "Epoch 1000: Loss=0.08967120523510302\n",
            "\n",
            "Fold 3:\n",
            "Accuracy: 0.8723404255319149\n",
            "Precision: 0.7931034482758621\n",
            "Recall: 1.0\n",
            "F1 Score: 0.8846153846153846\n",
            "Specificity: 0.75\n",
            "Confusion Matrix:\n",
            "[[18  6]\n",
            " [ 0 23]]\n",
            "Epoch 100: Loss=0.22158905404523727\n",
            "Epoch 200: Loss=0.16377059558803822\n",
            "Epoch 300: Loss=0.13997452931354076\n",
            "Epoch 400: Loss=0.13223183670127134\n",
            "Epoch 500: Loss=0.12777391596818669\n",
            "Epoch 600: Loss=0.12340366423135461\n",
            "Epoch 700: Loss=0.11791449222429527\n",
            "Epoch 800: Loss=0.11065180581458835\n",
            "Epoch 900: Loss=0.10140995071800578\n",
            "Epoch 1000: Loss=0.09066229745504224\n",
            "\n",
            "Fold 4:\n",
            "Accuracy: 0.9787234042553191\n",
            "Precision: 0.96\n",
            "Recall: 1.0\n",
            "F1 Score: 0.9795918367346939\n",
            "Specificity: 0.9565217391304348\n",
            "Confusion Matrix:\n",
            "[[22  1]\n",
            " [ 0 24]]\n",
            "Epoch 100: Loss=0.20500698209820067\n",
            "Epoch 200: Loss=0.14531524792700012\n",
            "Epoch 300: Loss=0.1284505871584591\n",
            "Epoch 400: Loss=0.12108322141623358\n",
            "Epoch 500: Loss=0.11509361432042615\n",
            "Epoch 600: Loss=0.10865867173129787\n",
            "Epoch 700: Loss=0.10128631944420431\n",
            "Epoch 800: Loss=0.09279507004858838\n",
            "Epoch 900: Loss=0.08306789403137525\n",
            "Epoch 1000: Loss=0.07225175504582404\n",
            "\n",
            "Fold 5:\n",
            "Accuracy: 0.9574468085106383\n",
            "Precision: 0.9230769230769231\n",
            "Recall: 1.0\n",
            "F1 Score: 0.96\n",
            "Specificity: 0.9130434782608695\n",
            "Confusion Matrix:\n",
            "[[21  2]\n",
            " [ 0 24]]\n"
          ]
        },
        {
          "output_type": "display_data",
          "data": {
            "text/plain": [
              "<Figure size 800x600 with 1 Axes>"
            ],
            "image/png": "[encoded data removed]"
          },
          "metadata": {}
        },
        {
          "output_type": "stream",
          "name": "stdout",
          "text": [
            "\n",
            "Average accuracy across all folds:0.8733156028368795\n",
            "Average precision across all folds:0.8227781618126446\n",
            "Average recall across all folds:0.9666666666666668\n",
            "Average f1 score across all folds:0.8859899036537693\n",
            "Average specificity across all folds:0.7822463768115943\n"
          ]
        }
      ]
    },
    {
      "cell_type": "markdown",
      "source": [
        "Repeat the problem for A-Z Handwritten Alphabets using 5×5 grid structure. Use\n",
        "multiple patterns for each handwritten alphabet."
      ],
      "metadata": {
        "id": "SwRaBX7vBrEV"
      }
    },
    {
      "cell_type": "code",
      "source": [
        "character_grids = {\n",
        "    \"A\": [[0, 1, 1, 1, 0],\n",
        "          [1, 0, 0, 0, 1],\n",
        "          [1, 1, 1, 1, 1],\n",
        "          [1, 0, 0, 0, 1],\n",
        "          [1, 0, 0, 0, 1]],\n",
        "    \"B\": [[1, 1, 1, 1, 0],\n",
        "          [1, 0, 0, 0, 1],\n",
        "          [1, 1, 1, 1, 0],\n",
        "          [1, 0, 0, 0, 1],\n",
        "          [1, 1, 1, 1, 0]],\n",
        "    \"C\": [[1, 1, 1, 1, 1],\n",
        "          [1, 0, 0, 0, 0],\n",
        "          [1, 0, 0, 0, 0],\n",
        "          [1, 0, 0, 0, 0],\n",
        "          [1, 1, 1, 1, 1]],\n",
        "    \"D\": [[1, 1, 1, 1, 0],\n",
        "          [1, 0, 0, 0, 1],\n",
        "          [1, 0, 0, 0, 1],\n",
        "          [1, 0, 0, 0, 1],\n",
        "          [1, 1, 1, 1, 0]],\n",
        "    \"E\": [[1, 1, 1, 1, 1],\n",
        "          [1, 0, 0, 0, 0],\n",
        "          [1, 1, 1, 1, 0],\n",
        "          [1, 0, 0, 0, 0],\n",
        "          [1, 1, 1, 1, 1]],\n",
        "    \"F\": [[1, 1, 1, 1, 1],\n",
        "          [1, 0, 0, 0, 0],\n",
        "          [1, 1, 1, 1, 0],\n",
        "          [1, 0, 0, 0, 0],\n",
        "          [1, 0, 0, 0, 0]],\n",
        "    \"G\": [[0, 1, 1, 1, 1],\n",
        "          [1, 0, 0, 0, 0],\n",
        "          [1, 0, 1, 1, 1],\n",
        "          [1, 0, 0, 0, 1],\n",
        "          [0, 1, 1, 1, 1]],\n",
        "    \"H\": [[1, 0, 0, 0, 1],\n",
        "          [1, 0, 0, 0, 1],\n",
        "          [1, 1, 1, 1, 1],\n",
        "          [1, 0, 0, 0, 1],\n",
        "          [1, 0, 0, 0, 1]],\n",
        "    \"I\": [[1, 1, 1, 1, 1],\n",
        "          [0, 0, 1, 0, 0],\n",
        "          [0, 0, 1, 0, 0],\n",
        "          [0, 0, 1, 0, 0],\n",
        "          [1, 1, 1, 1, 1]],\n",
        "    \"J\": [[1, 1, 1, 1, 1],\n",
        "          [0, 0, 0, 0, 1],\n",
        "          [0, 1, 0, 0, 1],\n",
        "          [0, 1, 0, 0, 1],\n",
        "          [0, 1, 1, 1, 0]],\n",
        "    \"K\": [[1, 0, 0, 1, 0],\n",
        "          [1, 0, 1, 0, 0],\n",
        "          [1, 1, 0, 0, 0],\n",
        "          [1, 0, 1, 0, 0],\n",
        "          [1, 0, 0, 1, 0]],\n",
        "    \"L\": [[1, 0, 0, 0, 0],\n",
        "          [1, 0, 0, 0, 0],\n",
        "          [1, 0, 0, 0, 0],\n",
        "          [1, 0, 0, 0, 0],\n",
        "          [1, 1, 1, 1, 1]],\n",
        "    \"M\": [[1, 0, 0, 0, 1],\n",
        "          [1, 1, 0, 1, 1],\n",
        "          [1, 0, 1, 0, 1],\n",
        "          [1, 0, 0, 0, 1],\n",
        "          [1, 0, 0, 0, 1]],\n",
        "    \"N\": [[1, 0, 0, 0, 1],\n",
        "          [1, 1, 0, 0, 1],\n",
        "          [1, 0, 1, 0, 1],\n",
        "          [1, 0, 0, 1, 1],\n",
        "          [1, 0, 0, 0, 1]],\n",
        "    \"O\": [[0, 1, 1, 1, 0],\n",
        "          [1, 0, 0, 0, 1],\n",
        "          [1, 0, 0, 0, 1],\n",
        "          [1, 0, 0, 0, 1],\n",
        "          [0, 1, 1, 1, 0]],\n",
        "    \"P\": [[1, 1, 1, 1, 0],\n",
        "          [1, 0, 0, 0, 1],\n",
        "          [1, 1, 1, 1, 0],\n",
        "          [1, 0, 0, 0, 0],\n",
        "          [1, 0, 0, 0, 0]],\n",
        "    \"Q\": [[0, 1, 1, 1, 0],\n",
        "          [1, 0, 0, 0, 1],\n",
        "          [1, 0, 0, 0, 1],\n",
        "          [1, 0, 1, 1, 0],\n",
        "          [0, 1, 1, 1, 1]],\n",
        "    \"R\": [[1, 1, 1, 1, 0],\n",
        "          [1, 0, 0, 0, 1],\n",
        "          [1, 1, 1, 1, 0],\n",
        "          [1, 0, 1, 0, 0],\n",
        "          [1, 0, 0, 1, 0]],\n",
        "    \"S\": [[1, 1, 1, 1, 1],\n",
        "          [1, 0, 0, 0, 0],\n",
        "          [1, 1, 1, 1, 1],\n",
        "          [0, 0, 0, 0, 1],\n",
        "          [1, 1, 1, 1, 1]],\n",
        "    \"T\": [[1, 1, 1, 1, 1],\n",
        "          [0, 0, 1, 0, 0],\n",
        "          [0, 0, 1, 0, 0],\n",
        "          [0, 0, 1, 0, 0],\n",
        "          [0, 0, 1, 0, 0]],\n",
        "    \"U\": [[1, 0, 0, 0, 1],\n",
        "          [1, 0, 0, 0, 1],\n",
        "          [1, 0, 0, 0, 1],\n",
        "          [1, 0, 0, 0, 1],\n",
        "          [0, 1, 1, 1, 0]],\n",
        "    \"V\": [[1, 0, 0, 0, 1],\n",
        "          [1, 0, 0, 0, 1],\n",
        "          [1, 0, 0, 0, 1],\n",
        "          [0, 1, 0, 1, 0],\n",
        "          [0, 0, 1, 0, 0]],\n",
        "    \"W\": [[1, 0, 0, 0, 1],\n",
        "          [1, 0, 0, 0, 1],\n",
        "          [1, 0, 1, 0, 1],\n",
        "          [1, 1, 0, 1, 1],\n",
        "          [1, 0, 0, 0, 1]],\n",
        "    \"X\": [[1, 0, 0, 0, 1],\n",
        "          [0, 1, 0, 1, 0],\n",
        "          [0, 0, 1, 0, 0],\n",
        "          [0, 1, 0, 1, 0],\n",
        "          [1, 0, 0, 0, 1]],\n",
        "    \"Y\": [[1, 0, 0, 0, 1],\n",
        "          [0, 1, 0, 1, 0],\n",
        "          [0, 0, 1, 0, 0],\n",
        "          [0, 0, 1, 0, 0],\n",
        "          [0, 0, 1, 0, 0]],\n",
        "    \"Z\": [[1, 1, 1, 1, 1],\n",
        "          [0, 0, 0, 1, 0],\n",
        "          [0, 0, 1, 0, 0],\n",
        "          [0, 1, 0, 0, 0],\n",
        "          [1, 1, 1, 1, 1]]\n",
        "}"
      ],
      "metadata": {
        "id": "3gMVFYrH0UbJ"
      },
      "execution_count": null,
      "outputs": []
    },
    {
      "cell_type": "code",
      "source": [
        "def print_letter(letter):\n",
        "  grid=character_grids.get(letter.upper())\n",
        "  if grid:\n",
        "    for row in grid:\n",
        "      print(\"\".join([\"*\" if cell else \" \" for cell in row]))\n",
        "  else:\n",
        "    print(\"Invalid letter\")"
      ],
      "metadata": {
        "id": "cor9tidD0gcP"
      },
      "execution_count": null,
      "outputs": []
    },
    {
      "cell_type": "code",
      "source": [
        "alphabet_pattern=np.array(list(character_grids.values()))"
      ],
      "metadata": {
        "id": "1wAumFl6N_oN"
      },
      "execution_count": null,
      "outputs": []
    },
    {
      "cell_type": "code",
      "source": [
        "alphabet_pattern"
      ],
      "metadata": {
        "colab": {
          "base_uri": "https://localhost:8080/"
        },
        "id": "p2bu_ncN8cYJ",
        "outputId": "5e755749-a5b0-4bdf-bdfd-2f24971384fb"
      },
      "execution_count": null,
      "outputs": [
        {
          "output_type": "execute_result",
          "data": {
            "text/plain": [
              "array([[[0, 1, 1, 1, 0],\n",
              "        [1, 0, 0, 0, 1],\n",
              "        [1, 1, 1, 1, 1],\n",
              "        [1, 0, 0, 0, 1],\n",
              "        [1, 0, 0, 0, 1]],\n",
              "\n",
              "       [[1, 1, 1, 1, 0],\n",
              "        [1, 0, 0, 0, 1],\n",
              "        [1, 1, 1, 1, 0],\n",
              "        [1, 0, 0, 0, 1],\n",
              "        [1, 1, 1, 1, 0]],\n",
              "\n",
              "       [[1, 1, 1, 1, 1],\n",
              "        [1, 0, 0, 0, 0],\n",
              "        [1, 0, 0, 0, 0],\n",
              "        [1, 0, 0, 0, 0],\n",
              "        [1, 1, 1, 1, 1]],\n",
              "\n",
              "       [[1, 1, 1, 1, 0],\n",
              "        [1, 0, 0, 0, 1],\n",
              "        [1, 0, 0, 0, 1],\n",
              "        [1, 0, 0, 0, 1],\n",
              "        [1, 1, 1, 1, 0]],\n",
              "\n",
              "       [[1, 1, 1, 1, 1],\n",
              "        [1, 0, 0, 0, 0],\n",
              "        [1, 1, 1, 1, 0],\n",
              "        [1, 0, 0, 0, 0],\n",
              "        [1, 1, 1, 1, 1]],\n",
              "\n",
              "       [[1, 1, 1, 1, 1],\n",
              "        [1, 0, 0, 0, 0],\n",
              "        [1, 1, 1, 1, 0],\n",
              "        [1, 0, 0, 0, 0],\n",
              "        [1, 0, 0, 0, 0]],\n",
              "\n",
              "       [[0, 1, 1, 1, 1],\n",
              "        [1, 0, 0, 0, 0],\n",
              "        [1, 0, 1, 1, 1],\n",
              "        [1, 0, 0, 0, 1],\n",
              "        [0, 1, 1, 1, 1]],\n",
              "\n",
              "       [[1, 0, 0, 0, 1],\n",
              "        [1, 0, 0, 0, 1],\n",
              "        [1, 1, 1, 1, 1],\n",
              "        [1, 0, 0, 0, 1],\n",
              "        [1, 0, 0, 0, 1]],\n",
              "\n",
              "       [[1, 1, 1, 1, 1],\n",
              "        [0, 0, 1, 0, 0],\n",
              "        [0, 0, 1, 0, 0],\n",
              "        [0, 0, 1, 0, 0],\n",
              "        [1, 1, 1, 1, 1]],\n",
              "\n",
              "       [[1, 1, 1, 1, 1],\n",
              "        [0, 0, 0, 0, 1],\n",
              "        [0, 1, 0, 0, 1],\n",
              "        [0, 1, 0, 0, 1],\n",
              "        [0, 1, 1, 1, 0]],\n",
              "\n",
              "       [[1, 0, 0, 1, 0],\n",
              "        [1, 0, 1, 0, 0],\n",
              "        [1, 1, 0, 0, 0],\n",
              "        [1, 0, 1, 0, 0],\n",
              "        [1, 0, 0, 1, 0]],\n",
              "\n",
              "       [[1, 0, 0, 0, 0],\n",
              "        [1, 0, 0, 0, 0],\n",
              "        [1, 0, 0, 0, 0],\n",
              "        [1, 0, 0, 0, 0],\n",
              "        [1, 1, 1, 1, 1]],\n",
              "\n",
              "       [[1, 0, 0, 0, 1],\n",
              "        [1, 1, 0, 1, 1],\n",
              "        [1, 0, 1, 0, 1],\n",
              "        [1, 0, 0, 0, 1],\n",
              "        [1, 0, 0, 0, 1]],\n",
              "\n",
              "       [[1, 0, 0, 0, 1],\n",
              "        [1, 1, 0, 0, 1],\n",
              "        [1, 0, 1, 0, 1],\n",
              "        [1, 0, 0, 1, 1],\n",
              "        [1, 0, 0, 0, 1]],\n",
              "\n",
              "       [[0, 1, 1, 1, 0],\n",
              "        [1, 0, 0, 0, 1],\n",
              "        [1, 0, 0, 0, 1],\n",
              "        [1, 0, 0, 0, 1],\n",
              "        [0, 1, 1, 1, 0]],\n",
              "\n",
              "       [[1, 1, 1, 1, 0],\n",
              "        [1, 0, 0, 0, 1],\n",
              "        [1, 1, 1, 1, 0],\n",
              "        [1, 0, 0, 0, 0],\n",
              "        [1, 0, 0, 0, 0]],\n",
              "\n",
              "       [[0, 1, 1, 1, 0],\n",
              "        [1, 0, 0, 0, 1],\n",
              "        [1, 0, 0, 0, 1],\n",
              "        [1, 0, 1, 1, 0],\n",
              "        [0, 1, 1, 1, 1]],\n",
              "\n",
              "       [[1, 1, 1, 1, 0],\n",
              "        [1, 0, 0, 0, 1],\n",
              "        [1, 1, 1, 1, 0],\n",
              "        [1, 0, 1, 0, 0],\n",
              "        [1, 0, 0, 1, 0]],\n",
              "\n",
              "       [[1, 1, 1, 1, 1],\n",
              "        [1, 0, 0, 0, 0],\n",
              "        [1, 1, 1, 1, 1],\n",
              "        [0, 0, 0, 0, 1],\n",
              "        [1, 1, 1, 1, 1]],\n",
              "\n",
              "       [[1, 1, 1, 1, 1],\n",
              "        [0, 0, 1, 0, 0],\n",
              "        [0, 0, 1, 0, 0],\n",
              "        [0, 0, 1, 0, 0],\n",
              "        [0, 0, 1, 0, 0]],\n",
              "\n",
              "       [[1, 0, 0, 0, 1],\n",
              "        [1, 0, 0, 0, 1],\n",
              "        [1, 0, 0, 0, 1],\n",
              "        [1, 0, 0, 0, 1],\n",
              "        [0, 1, 1, 1, 0]],\n",
              "\n",
              "       [[1, 0, 0, 0, 1],\n",
              "        [1, 0, 0, 0, 1],\n",
              "        [1, 0, 0, 0, 1],\n",
              "        [0, 1, 0, 1, 0],\n",
              "        [0, 0, 1, 0, 0]],\n",
              "\n",
              "       [[1, 0, 0, 0, 1],\n",
              "        [1, 0, 0, 0, 1],\n",
              "        [1, 0, 1, 0, 1],\n",
              "        [1, 1, 0, 1, 1],\n",
              "        [1, 0, 0, 0, 1]],\n",
              "\n",
              "       [[1, 0, 0, 0, 1],\n",
              "        [0, 1, 0, 1, 0],\n",
              "        [0, 0, 1, 0, 0],\n",
              "        [0, 1, 0, 1, 0],\n",
              "        [1, 0, 0, 0, 1]],\n",
              "\n",
              "       [[1, 0, 0, 0, 1],\n",
              "        [0, 1, 0, 1, 0],\n",
              "        [0, 0, 1, 0, 0],\n",
              "        [0, 0, 1, 0, 0],\n",
              "        [0, 0, 1, 0, 0]],\n",
              "\n",
              "       [[1, 1, 1, 1, 1],\n",
              "        [0, 0, 0, 1, 0],\n",
              "        [0, 0, 1, 0, 0],\n",
              "        [0, 1, 0, 0, 0],\n",
              "        [1, 1, 1, 1, 1]]])"
            ]
          },
          "metadata": {},
          "execution_count": 18
        }
      ]
    },
    {
      "cell_type": "code",
      "source": [
        "x= np.array([np.array(pattern).flatten() for pattern in alphabet_pattern])\n",
        "y= np.ones(len(x))"
      ],
      "metadata": {
        "id": "CNY7477RO-8Z"
      },
      "execution_count": null,
      "outputs": []
    },
    {
      "cell_type": "code",
      "source": [
        "randomx=np.random.randint(0,2,(100,25))\n",
        "randomy=np.zeros(100)\n",
        "x=np.concatenate((x,randomx))\n",
        "y=np.concatenate((y,randomy))"
      ],
      "metadata": {
        "id": "9DTPleKvPRVf"
      },
      "execution_count": null,
      "outputs": []
    },
    {
      "cell_type": "code",
      "source": [
        "data=np.concatenate((x,y.reshape(-1,1)),axis=1)\n",
        "data"
      ],
      "metadata": {
        "id": "F2xjIOe0Q3Wx",
        "colab": {
          "base_uri": "https://localhost:8080/"
        },
        "outputId": "9a5fe9c6-ec82-4c5f-e163-8e285f7f17b7"
      },
      "execution_count": null,
      "outputs": [
        {
          "output_type": "execute_result",
          "data": {
            "text/plain": [
              "array([[0., 1., 1., ..., 0., 1., 1.],\n",
              "       [1., 1., 1., ..., 1., 0., 1.],\n",
              "       [1., 1., 1., ..., 1., 1., 1.],\n",
              "       ...,\n",
              "       [1., 1., 0., ..., 1., 1., 0.],\n",
              "       [1., 0., 0., ..., 1., 0., 0.],\n",
              "       [0., 0., 1., ..., 1., 0., 0.]])"
            ]
          },
          "metadata": {},
          "execution_count": 21
        }
      ]
    },
    {
      "cell_type": "code",
      "source": [
        "valid=data[data[:,-1]==1]\n",
        "invalid=data[data[:,-1]==0]"
      ],
      "metadata": {
        "id": "ULIUziKsRAtL"
      },
      "execution_count": null,
      "outputs": []
    },
    {
      "cell_type": "code",
      "source": [
        "valid_oversampled=resample(valid,replace=True,n_samples=len(invalid),random_state=42)\n",
        "data=np.concatenate((valid_oversampled,invalid),axis=0)\n",
        "np.random.shuffle(data)"
      ],
      "metadata": {
        "id": "4OHz1woARd2A"
      },
      "execution_count": null,
      "outputs": []
    },
    {
      "cell_type": "code",
      "source": [
        "x=data[:,:-1]\n",
        "y=data[:,-1].reshape(-1,1)"
      ],
      "metadata": {
        "id": "QqD3de9m-_dK"
      },
      "execution_count": null,
      "outputs": []
    },
    {
      "cell_type": "code",
      "source": [
        "neural_network_alphabet=NeuralNetwork(x.shape[1],16,32,1,0.001)\n",
        "loss=neural_network_alphabet.train(x,y,1000)\n",
        "plt.plot(loss)\n",
        "plt.xlabel(\"Epochs\")\n",
        "plt.ylabel(\"Loss\")\n",
        "plt.title(\"Loss vs Epochs\")\n",
        "plt.show()"
      ],
      "metadata": {
        "colab": {
          "base_uri": "https://localhost:8080/",
          "height": 654
        },
        "id": "ztspjASb_Zwj",
        "outputId": "b1a590fa-053a-4918-a76a-fa4c03740d6a"
      },
      "execution_count": null,
      "outputs": [
        {
          "output_type": "stream",
          "name": "stdout",
          "text": [
            "Epoch 100: Loss=0.24008936320109553\n",
            "Epoch 200: Loss=0.23347855492683428\n",
            "Epoch 300: Loss=0.22506827532730156\n",
            "Epoch 400: Loss=0.21409546950520436\n",
            "Epoch 500: Loss=0.2000462122494567\n",
            "Epoch 600: Loss=0.1831495680320944\n",
            "Epoch 700: Loss=0.1647405135042822\n",
            "Epoch 800: Loss=0.14680210443632608\n",
            "Epoch 900: Loss=0.13086074612689091\n",
            "Epoch 1000: Loss=0.11743758679522635\n"
          ]
        },
        {
          "output_type": "display_data",
          "data": {
            "text/plain": [
              "<Figure size 640x480 with 1 Axes>"
            ],
            "image/png": "[encoded data removed]"
          },
          "metadata": {}
        }
      ]
    },
    {
      "cell_type": "code",
      "source": [
        "stratified_crossvalidation(x,y,16,32,0.001,1000,5)"
      ],
      "metadata": {
        "colab": {
          "base_uri": "https://localhost:8080/",
          "height": 1000
        },
        "id": "SxQq9L5s_7H5",
        "outputId": "dec6e5db-6efc-4a0c-cb3a-b839c608f6f7"
      },
      "execution_count": null,
      "outputs": [
        {
          "output_type": "stream",
          "name": "stdout",
          "text": [
            "Epoch 100: Loss=0.2519199472867089\n",
            "Epoch 200: Loss=0.24891272178181714\n",
            "Epoch 300: Loss=0.24586591235919344\n",
            "Epoch 400: Loss=0.24252855700635695\n",
            "Epoch 500: Loss=0.23863156702329227\n",
            "Epoch 600: Loss=0.23386415133527244\n",
            "Epoch 700: Loss=0.2278629216154599\n",
            "Epoch 800: Loss=0.2202286368306785\n",
            "Epoch 900: Loss=0.2105996652865513\n",
            "Epoch 1000: Loss=0.19881465655024386\n",
            "\n",
            "Fold 1:\n",
            "Accuracy: 0.75\n",
            "Precision: 0.7777777777777778\n",
            "Recall: 0.7\n",
            "F1 Score: 0.7368421052631579\n",
            "Specificity: 0.8\n",
            "Confusion Matrix:\n",
            "[[16  4]\n",
            " [ 6 14]]\n",
            "Epoch 100: Loss=0.24699706850166714\n",
            "Epoch 200: Loss=0.24414573173141457\n",
            "Epoch 300: Loss=0.24083269016378947\n",
            "Epoch 400: Loss=0.23677187254585014\n",
            "Epoch 500: Loss=0.23161200204678897\n",
            "Epoch 600: Loss=0.22492596523494557\n",
            "Epoch 700: Loss=0.2162356328112089\n",
            "Epoch 800: Loss=0.20511167934931374\n",
            "Epoch 900: Loss=0.19138636492037348\n",
            "Epoch 1000: Loss=0.17544199508625008\n",
            "\n",
            "Fold 2:\n",
            "Accuracy: 0.85\n",
            "Precision: 0.8181818181818182\n",
            "Recall: 0.9\n",
            "F1 Score: 0.8571428571428571\n",
            "Specificity: 0.8\n",
            "Confusion Matrix:\n",
            "[[16  4]\n",
            " [ 2 18]]\n",
            "Epoch 100: Loss=0.24800528027955923\n",
            "Epoch 200: Loss=0.24464767687055494\n",
            "Epoch 300: Loss=0.24102576474652598\n",
            "Epoch 400: Loss=0.23680834195033817\n",
            "Epoch 500: Loss=0.23163449987330598\n",
            "Epoch 600: Loss=0.2251009197417889\n",
            "Epoch 700: Loss=0.21678989882025412\n",
            "Epoch 800: Loss=0.2063737826809023\n",
            "Epoch 900: Loss=0.1938176512390509\n",
            "Epoch 1000: Loss=0.17960219349420095\n",
            "\n",
            "Fold 3:\n",
            "Accuracy: 0.85\n",
            "Precision: 0.9375\n",
            "Recall: 0.75\n",
            "F1 Score: 0.8333333333333334\n",
            "Specificity: 0.95\n",
            "Confusion Matrix:\n",
            "[[19  1]\n",
            " [ 5 15]]\n",
            "Epoch 100: Loss=0.24894535506871077\n",
            "Epoch 200: Loss=0.24396057815997052\n",
            "Epoch 300: Loss=0.2386508547666885\n",
            "Epoch 400: Loss=0.2324643359658191\n",
            "Epoch 500: Loss=0.22484884685808693\n",
            "Epoch 600: Loss=0.2152677264965563\n",
            "Epoch 700: Loss=0.20331587211692384\n",
            "Epoch 800: Loss=0.18895601800918133\n",
            "Epoch 900: Loss=0.17277782252632218\n",
            "Epoch 1000: Loss=0.15599565875703952\n",
            "\n",
            "Fold 4:\n",
            "Accuracy: 0.825\n",
            "Precision: 0.8421052631578947\n",
            "Recall: 0.8\n",
            "F1 Score: 0.8205128205128205\n",
            "Specificity: 0.85\n",
            "Confusion Matrix:\n",
            "[[17  3]\n",
            " [ 4 16]]\n",
            "Epoch 100: Loss=0.23388369120540914\n",
            "Epoch 200: Loss=0.22585738137397077\n",
            "Epoch 300: Loss=0.21543440978622605\n",
            "Epoch 400: Loss=0.2019356650079102\n",
            "Epoch 500: Loss=0.18510822589065423\n",
            "Epoch 600: Loss=0.16568585993943982\n",
            "Epoch 700: Loss=0.14557497129954305\n",
            "Epoch 800: Loss=0.1270462139936351\n",
            "Epoch 900: Loss=0.11154122056221145\n",
            "Epoch 1000: Loss=0.09932273859833918\n",
            "\n",
            "Fold 5:\n",
            "Accuracy: 0.8\n",
            "Precision: 0.7727272727272727\n",
            "Recall: 0.85\n",
            "F1 Score: 0.8095238095238095\n",
            "Specificity: 0.75\n",
            "Confusion Matrix:\n",
            "[[15  5]\n",
            " [ 3 17]]\n"
          ]
        },
        {
          "output_type": "display_data",
          "data": {
            "text/plain": [
              "<Figure size 800x600 with 1 Axes>"
            ],
            "image/png": "[encoded data removed]"
          },
          "metadata": {}
        },
        {
          "output_type": "stream",
          "name": "stdout",
          "text": [
            "\n",
            "Average accuracy across all folds:0.8150000000000001\n",
            "Average precision across all folds:0.8296584263689526\n",
            "Average recall across all folds:0.8\n",
            "Average f1 score across all folds:0.8114709851551956\n",
            "Average specificity across all folds:0.8300000000000001\n"
          ]
        }
      ]
    }
  ]
}